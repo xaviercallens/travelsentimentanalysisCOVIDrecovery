{
 "cells": [
  {
   "cell_type": "markdown",
   "metadata": {
    "id": "UcjMHKzOW8Ep"
   },
   "source": [
    "Initialize notebook"
   ]
  },
  {
   "cell_type": "code",
   "execution_count": 4,
   "metadata": {},
   "outputs": [],
   "source": [
    "root_folder = '/home/jupyter/travelsentimentanalysisCOVIDrecovery/'\n",
    "\n",
    "# Import packages\n",
    "\n",
    "import re\n",
    "import textblob\n",
    "\n",
    "from read_file import dataframe_from_mult_files\n",
    "from s_file_manager import save_sentiments"
   ]
  },
  {
   "cell_type": "markdown",
   "metadata": {
    "id": "XIErXS0fXZpz"
   },
   "source": [
    "Load tweets"
   ]
  },
  {
   "cell_type": "code",
   "execution_count": 5,
   "metadata": {
    "executionInfo": {
     "elapsed": 8750,
     "status": "ok",
     "timestamp": 1616503095722,
     "user": {
      "displayName": "Léo Gonçalves",
      "photoUrl": "",
      "userId": "09555909323570921688"
     },
     "user_tz": -60
    },
    "id": "VwmJcLoUwL73"
   },
   "outputs": [],
   "source": [
    "tweets_filename = 'stream_tweets_Week4_181k'\n",
    "tweets = dataframe_from_mult_files([root_folder + 'Tweets/' + tweets_filename + '.csv'])"
   ]
  },
  {
   "cell_type": "markdown",
   "metadata": {
    "id": "PFzrJDVXoc6W"
   },
   "source": [
    "Get predictions from TextBlob"
   ]
  },
  {
   "cell_type": "code",
   "execution_count": 6,
   "metadata": {
    "executionInfo": {
     "elapsed": 66071,
     "status": "ok",
     "timestamp": 1616503153048,
     "user": {
      "displayName": "Léo Gonçalves",
      "photoUrl": "",
      "userId": "09555909323570921688"
     },
     "user_tz": -60
    },
    "id": "lMSG1F8PohU3"
   },
   "outputs": [],
   "source": [
    "def clean_text(text):\n",
    "    return ' '.join(re.sub(\"([^\\w'’,.]+)|(\\w+:\\/\\/\\S+)\", \" \", text).split())\n",
    "\n",
    "def sentiment_score(text):\n",
    "    analysis = textblob.TextBlob(clean_text(text))\n",
    "    return analysis.sentiment.polarity\n",
    "\n",
    "def discrete_sentiment(sentiment_score):\n",
    "    if sentiment_score > 0: return 1\n",
    "    elif sentiment_score == 0: return 0\n",
    "    else: return -1\n",
    "\n",
    "def compute_sentiment_scores(texts):\n",
    "    return [discrete_sentiment(sentiment_score(text)) for text in texts]\n",
    "\n",
    "sentiments = compute_sentiment_scores(tweets['text'])"
   ]
  },
  {
   "cell_type": "markdown",
   "metadata": {
    "id": "B-lLrb26pZZW"
   },
   "source": [
    "Save predictions"
   ]
  },
  {
   "cell_type": "code",
   "execution_count": 7,
   "metadata": {
    "executionInfo": {
     "elapsed": 66068,
     "status": "ok",
     "timestamp": 1616503153051,
     "user": {
      "displayName": "Léo Gonçalves",
      "photoUrl": "",
      "userId": "09555909323570921688"
     },
     "user_tz": -60
    },
    "id": "JwSeUHCL80CC"
   },
   "outputs": [],
   "source": [
    "save_sentiments(\n",
    "    sentiments = sentiments,\n",
    "    folder_name = root_folder + 'Sentiment/Génération des résultats/Sentiments/',\n",
    "    tweets_filename = tweets_filename,\n",
    "    model_name = 'TextBlob'\n",
    ")"
   ]
  }
 ],
 "metadata": {
  "colab": {
   "authorship_tag": "ABX9TyMLFPURj4lYsg/I/hIKpJ/S",
   "collapsed_sections": [],
   "name": "TextBlob.ipynb",
   "provenance": []
  },
  "environment": {
   "name": "tf2-gpu.2-4.m65",
   "type": "gcloud",
   "uri": "gcr.io/deeplearning-platform-release/tf2-gpu.2-4:m65"
  },
  "kernelspec": {
   "display_name": "Python 3",
   "language": "python",
   "name": "python3"
  },
  "language_info": {
   "codemirror_mode": {
    "name": "ipython",
    "version": 3
   },
   "file_extension": ".py",
   "mimetype": "text/x-python",
   "name": "python",
   "nbconvert_exporter": "python",
   "pygments_lexer": "ipython3",
   "version": "3.7.10"
  }
 },
 "nbformat": 4,
 "nbformat_minor": 4
}
