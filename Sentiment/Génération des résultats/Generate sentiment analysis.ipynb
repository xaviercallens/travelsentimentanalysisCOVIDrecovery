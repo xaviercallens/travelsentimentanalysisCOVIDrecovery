{
 "cells": [
  {
   "cell_type": "markdown",
   "metadata": {
    "id": "GrLjLmlcHGgY"
   },
   "source": [
    "Initialize notebook"
   ]
  },
  {
   "cell_type": "code",
   "execution_count": 1,
   "metadata": {
    "colab": {
     "base_uri": "https://localhost:8080/"
    },
    "executionInfo": {
     "elapsed": 24743,
     "status": "ok",
     "timestamp": 1617109963286,
     "user": {
      "displayName": "Léo Gonçalves",
      "photoUrl": "",
      "userId": "09555909323570921688"
     },
     "user_tz": -120
    },
    "id": "U69VEyzU2ZOt",
    "outputId": "6fc0f9a9-a143-4217-cc01-fcc730bd7b4b"
   },
   "outputs": [],
   "source": [
    "root_folder = '/home/jupyter/travelsentimentanalysisCOVIDrecovery/'\n",
    "\n",
    "# Import packages\n",
    "from s_loader import Sentiment_loader\n",
    "from sa_generator import Sentiment_analysis_generator"
   ]
  },
  {
   "cell_type": "markdown",
   "metadata": {
    "id": "YD002rV5_cGD"
   },
   "source": [
    "Load tweets & sentiments"
   ]
  },
  {
   "cell_type": "code",
   "execution_count": 3,
   "metadata": {
    "executionInfo": {
     "elapsed": 7533,
     "status": "ok",
     "timestamp": 1617112802701,
     "user": {
      "displayName": "Léo Gonçalves",
      "photoUrl": "",
      "userId": "09555909323570921688"
     },
     "user_tz": -120
    },
    "id": "cWLyZUpN_d2P"
   },
   "outputs": [],
   "source": [
    "loader = Sentiment_loader(\n",
    "    tweets_folder = root_folder + 'Tweets/',\n",
    "    sentiments_folder = root_folder + 'Sentiment/Génération des résultats/Sentiments/',\n",
    "    sentiment_analysis_folder = root_folder + 'Sentiment/Génération des résultats/Sentiment analysis/',\n",
    "    # tweets_filename = 'stream_tweets_Week1_230k',\n",
    "    # tweets_filename = 'stream_tweets_Week2_160k',\n",
    "    # tweets_filename = 'stream_tweets_Week3_156k',\n",
    "    tweets_filename = 'stream_tweets_Week4_181k',\n",
    "    # model_name = 'Naive Bayes',\n",
    "    # model_name = 'TextBlob',\n",
    "    model_name = 'LSTM1',\n",
    "    # clusters_folder = drive_folder + 'Dataset/Topics/'\n",
    "    clusters_folder = None\n",
    ")\n",
    "gen = Sentiment_analysis_generator(loader)"
   ]
  },
  {
   "cell_type": "markdown",
   "metadata": {
    "id": "s80mFFyZNnN6"
   },
   "source": [
    "Generate sentiment analysis results"
   ]
  },
  {
   "cell_type": "code",
   "execution_count": 4,
   "metadata": {
    "executionInfo": {
     "elapsed": 8854,
     "status": "ok",
     "timestamp": 1617112805436,
     "user": {
      "displayName": "Léo Gonçalves",
      "photoUrl": "",
      "userId": "09555909323570921688"
     },
     "user_tz": -120
    },
    "id": "P3x4kDBhNqEP"
   },
   "outputs": [],
   "source": [
    "# clusters_names = list(range(len(loader.clusters)))\n",
    "clusters_names = ['covid', 'holidays', 'flight', 'photo', 'blog']\n",
    "\n",
    "gen.sentiment_distribution.save()\n",
    "gen.sentiment_over_time.save(clusters_names=clusters_names, frequence='3D', norm_option=None, time_sleep_threshold=None)\n",
    "gen.sentiment_over_time.save(clusters_names=clusters_names, frequence='3D', norm_option='volume', time_sleep_threshold=None)\n",
    "gen.text_by_sentiment.save(sentiments=[1,0,-1], nb_texts=10)"
   ]
  }
 ],
 "metadata": {
  "colab": {
   "collapsed_sections": [],
   "name": "Generate sentiment analysis.ipynb",
   "provenance": []
  },
  "environment": {
   "name": "tf2-gpu.2-4.m65",
   "type": "gcloud",
   "uri": "gcr.io/deeplearning-platform-release/tf2-gpu.2-4:m65"
  },
  "kernelspec": {
   "display_name": "Python 3",
   "language": "python",
   "name": "python3"
  },
  "language_info": {
   "codemirror_mode": {
    "name": "ipython",
    "version": 3
   },
   "file_extension": ".py",
   "mimetype": "text/x-python",
   "name": "python",
   "nbconvert_exporter": "python",
   "pygments_lexer": "ipython3",
   "version": "3.7.10"
  }
 },
 "nbformat": 4,
 "nbformat_minor": 4
}
