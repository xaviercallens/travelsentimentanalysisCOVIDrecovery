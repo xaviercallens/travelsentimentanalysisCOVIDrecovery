{
 "cells": [
  {
   "cell_type": "markdown",
   "metadata": {
    "id": "GrLjLmlcHGgY"
   },
   "source": [
    "Initialize notebook"
   ]
  },
  {
   "cell_type": "code",
   "execution_count": 1,
   "metadata": {
    "colab": {
     "base_uri": "https://localhost:8080/"
    },
    "executionInfo": {
     "elapsed": 52020,
     "status": "ok",
     "timestamp": 1617044153750,
     "user": {
      "displayName": "oldragon ar",
      "photoUrl": "",
      "userId": "11831130061906073290"
     },
     "user_tz": -120
    },
    "id": "U69VEyzU2ZOt",
    "outputId": "ece9cfec-ed27-4e24-b7f1-00068a877890"
   },
   "outputs": [
    {
     "name": "stdout",
     "output_type": "stream",
     "text": [
      "Requirement already satisfied: bert-for-tf2 in /opt/conda/lib/python3.7/site-packages (0.14.9)\n",
      "Requirement already satisfied: params-flow>=0.8.0 in /opt/conda/lib/python3.7/site-packages (from bert-for-tf2) (0.8.2)\n",
      "Requirement already satisfied: py-params>=0.9.6 in /opt/conda/lib/python3.7/site-packages (from bert-for-tf2) (0.10.2)\n",
      "Requirement already satisfied: numpy in /opt/conda/lib/python3.7/site-packages (from params-flow>=0.8.0->bert-for-tf2) (1.19.5)\n",
      "Requirement already satisfied: tqdm in /opt/conda/lib/python3.7/site-packages (from params-flow>=0.8.0->bert-for-tf2) (4.58.0)\n"
     ]
    },
    {
     "name": "stderr",
     "output_type": "stream",
     "text": [
      "[nltk_data] Downloading package stopwords to\n",
      "[nltk_data]     /home/jupyter/nltk_data...\n",
      "[nltk_data]   Package stopwords is already up-to-date!\n"
     ]
    }
   ],
   "source": [
    "root_folder = '/home/jupyter/travelsentimentanalysisCOVIDrecovery/'\n",
    "\n",
    "# Import packages\n",
    "\n",
    "!pip install bert-for-tf2\n",
    "\n",
    "import numpy as np\n",
    "\n",
    "import sys\n",
    "sys.path.insert(0, root_folder + 'Sentiment/Fichiers pour utiliser un modele')\n",
    "\n",
    "from read_file import dataframe_from_mult_files\n",
    "from s_file_manager import save_sentiments\n",
    "from clean_text1 import clean_text\n",
    "import Load_Model"
   ]
  },
  {
   "cell_type": "markdown",
   "metadata": {
    "id": "tEw_uuLIjlEJ"
   },
   "source": [
    "Load model"
   ]
  },
  {
   "cell_type": "code",
   "execution_count": 2,
   "metadata": {
    "colab": {
     "base_uri": "https://localhost:8080/"
    },
    "id": "mJCTA5yXcqvI",
    "outputId": "ba7e7f6f-43c1-498e-d46d-6b2d82c2f4f1"
   },
   "outputs": [
    {
     "name": "stdout",
     "output_type": "stream",
     "text": [
      "WARNING:tensorflow:Layer lstm_2 will not use cuDNN kernel since it doesn't meet the cuDNN kernel criteria. It will use generic GPU kernel as fallback when running on GPU\n"
     ]
    },
    {
     "name": "stderr",
     "output_type": "stream",
     "text": [
      "WARNING:tensorflow:Layer lstm_2 will not use cuDNN kernel since it doesn't meet the cuDNN kernel criteria. It will use generic GPU kernel as fallback when running on GPU\n"
     ]
    },
    {
     "name": "stdout",
     "output_type": "stream",
     "text": [
      "WARNING:tensorflow:Layer lstm_3 will not use cuDNN kernel since it doesn't meet the cuDNN kernel criteria. It will use generic GPU kernel as fallback when running on GPU\n"
     ]
    },
    {
     "name": "stderr",
     "output_type": "stream",
     "text": [
      "WARNING:tensorflow:Layer lstm_3 will not use cuDNN kernel since it doesn't meet the cuDNN kernel criteria. It will use generic GPU kernel as fallback when running on GPU\n"
     ]
    }
   ],
   "source": [
    "Load_Model.charge_model(root_folder + \"Sentiment/Modeles entrainés/model_Tweets_Flights\")"
   ]
  },
  {
   "cell_type": "markdown",
   "metadata": {
    "id": "qTJonJ65G-18"
   },
   "source": [
    "Load tweets"
   ]
  },
  {
   "cell_type": "code",
   "execution_count": 3,
   "metadata": {
    "id": "Z1g1cpJFkMOY"
   },
   "outputs": [],
   "source": [
    "tweets_filename = 'stream_tweets_Week4_181k'\n",
    "tweets = dataframe_from_mult_files([root_folder + 'Tweets/' + tweets_filename + '.csv'])\n",
    "texts = [clean_text(text) for text in tweets.text]"
   ]
  },
  {
   "cell_type": "markdown",
   "metadata": {
    "id": "YK5jsHk2HQTD"
   },
   "source": [
    "Get sentiments"
   ]
  },
  {
   "cell_type": "code",
   "execution_count": 4,
   "metadata": {
    "id": "veYEEMgWkzcG"
   },
   "outputs": [],
   "source": [
    "sentiments = Load_Model.evaluate_sentiment(texts)"
   ]
  },
  {
   "cell_type": "markdown",
   "metadata": {
    "id": "LPOrn0W20BwN"
   },
   "source": [
    "Adjust sentiments in [-1, 0, 1]"
   ]
  },
  {
   "cell_type": "code",
   "execution_count": 5,
   "metadata": {
    "id": "CVnzcaSpzVz4"
   },
   "outputs": [],
   "source": [
    "sentiments = np.array(sentiments) - 1"
   ]
  },
  {
   "cell_type": "markdown",
   "metadata": {
    "id": "7w4DlCn3tANW"
   },
   "source": [
    "Save sentiments"
   ]
  },
  {
   "cell_type": "code",
   "execution_count": 6,
   "metadata": {
    "id": "KaLKHqTstBuD"
   },
   "outputs": [],
   "source": [
    "save_sentiments(\n",
    "    sentiments = sentiments,\n",
    "    folder_name = root_folder + 'Sentiment/Génération des résultats/Sentiments/',\n",
    "    tweets_filename = tweets_filename,\n",
    "    model_name = 'LSTM1'\n",
    ")"
   ]
  }
 ],
 "metadata": {
  "accelerator": "GPU",
  "colab": {
   "collapsed_sections": [],
   "name": "LSTM1.ipynb",
   "provenance": []
  },
  "environment": {
   "name": "tf2-gpu.2-4.m65",
   "type": "gcloud",
   "uri": "gcr.io/deeplearning-platform-release/tf2-gpu.2-4:m65"
  },
  "kernelspec": {
   "display_name": "Python 3",
   "language": "python",
   "name": "python3"
  },
  "language_info": {
   "codemirror_mode": {
    "name": "ipython",
    "version": 3
   },
   "file_extension": ".py",
   "mimetype": "text/x-python",
   "name": "python",
   "nbconvert_exporter": "python",
   "pygments_lexer": "ipython3",
   "version": "3.7.10"
  }
 },
 "nbformat": 4,
 "nbformat_minor": 4
}
